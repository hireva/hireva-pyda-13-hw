{
 "cells": [
  {
   "cell_type": "markdown",
   "metadata": {},
   "source": [
    "# Задание 1 - сравнение длин строк"
   ]
  },
  {
   "cell_type": "code",
   "execution_count": 44,
   "metadata": {},
   "outputs": [
    {
     "name": "stdout",
     "output_type": "stream",
     "text": [
      "Фраза 1 длиннее фразы 2\n"
     ]
    }
   ],
   "source": [
    "phrase_1='Насколько проще было бы писать программы, если бы не заказчики'\n",
    "phrase_2='Насколько проще было бы писать программы, если бы не заказчики'\n",
    "\n",
    "if len(phrase_1) > len(phrase_2): \n",
    "    print('Фраза 1 длиннее фразы 2')\n",
    "\n",
    "elif len(phrase_1) < len(phrase_2):\n",
    "    print('Фраза 2 длиннее фразы 1')\n",
    "    \n",
    "else: \n",
    "    print('Фразы равной длины')\n"
   ]
  },
  {
   "cell_type": "markdown",
   "metadata": {},
   "source": [
    "# Задание 2 - проверить високосный ли год"
   ]
  },
  {
   "cell_type": "code",
   "execution_count": 32,
   "metadata": {},
   "outputs": [
    {
     "name": "stdout",
     "output_type": "stream",
     "text": [
      "Високосный год\n"
     ]
    }
   ],
   "source": [
    "year = 800\n",
    "if (year%4 != 0) or ((year%100 == 0) and (year%400 != 0)):\n",
    "    print('Обычный год')\n",
    "    \n",
    "else:\n",
    "    print('Високосный год')"
   ]
  },
  {
   "cell_type": "markdown",
   "metadata": {},
   "source": [
    "# Задание 3 - запросить у пользователя дату и месяц рождения и вывести его знак зодиака"
   ]
  },
  {
   "cell_type": "code",
   "execution_count": 40,
   "metadata": {},
   "outputs": [
    {
     "name": "stdout",
     "output_type": "stream",
     "text": [
      "Введите день:3\n",
      "Введите месяц:сентябрь\n",
      "Ваш знак зодиака: Дева\n"
     ]
    }
   ],
   "source": [
    "day = int(input('Введите день:'))\n",
    "month = input('Введите месяц:')\n",
    "\n",
    "\n",
    "if ((month == 'март') and (day >= 21)) or ((month == 'апрель') and (day < 21)):\n",
    "    print('Ваш знак зодиака: Овен')\n",
    "    \n",
    "elif ((month == 'апрель') and (day >= 21)) or ((month == 'май') and (day < 22)):\n",
    "    print('Ваш знак зодиака: Телец')\n",
    "\n",
    "elif ((month == 'май') and (day >= 22)) or ((month == 'июнь') and (day < 22)):\n",
    "    print('Ваш знак зодиака: Близнецы')\n",
    "    \n",
    "elif ((month == 'июнь') and (day >= 22)) or ((month == 'июль') and (day < 23)):\n",
    "    print('Ваш знак зодиака: Рак')\n",
    "\n",
    "elif ((month == 'июль') and (day >= 23)) or ((month == 'август') and (day < 24)):\n",
    "    print('Ваш знак зодиака: Лев')\n",
    "    \n",
    "elif ((month == 'август') and (day >= 24)) or ((month == 'сентябрь') and (day < 23)):\n",
    "    print('Ваш знак зодиака: Дева')\n",
    "    \n",
    "elif ((month == 'сентябрь') and (day >= 23)) or ((month == 'октябрь') and (day < 23)):\n",
    "    print('Ваш знак зодиака: Весы')\n",
    "    \n",
    "elif ((month == 'октябрь') and (day >= 23)) or ((month == 'ноябрь') and (day < 23)):\n",
    "    print('Ваш знак зодиака: Скорпион')\n",
    "    \n",
    "elif ((month == 'ноябрь') and (day >= 22)) or ((month == 'декабрь') and (day < 22)):\n",
    "    print('Ваш знак зодиака: Стрелец')\n",
    "    \n",
    "elif ((month == 'декабрь') and (day >= 22)) or ((month == 'январь') and (day < 21)):\n",
    "    print('Ваш знак зодиака: Козерог')\n",
    "    \n",
    "elif ((month == 'январь') and (day >= 21)) or ((month == 'февраль') and (day < 21)):\n",
    "    print('Ваш знак зодиака: Водолей')\n",
    "    \n",
    "elif ((month == 'февраль') and (day >= 20)) or ((month == 'март') and (day < 21)):\n",
    "    print('Ваш знак зодиака: Рыбы')"
   ]
  },
  {
   "cell_type": "markdown",
   "metadata": {},
   "source": [
    "# Задание 4 - подбор упаковки для товара"
   ]
  },
  {
   "cell_type": "code",
   "execution_count": 41,
   "metadata": {},
   "outputs": [
    {
     "name": "stdout",
     "output_type": "stream",
     "text": [
      "Упаковка для лыж\n"
     ]
    }
   ],
   "source": [
    "width = 45\n",
    "length = 205\n",
    "height = 45\n",
    "\n",
    "if (width < 15) and (length < 15) and (height < 15):\n",
    "    print('Коробка №1')\n",
    "    \n",
    "elif ((width > 15) or (length > 15) or (height > 15)) and ((width < 50) and (length < 50) and (height < 50)):\n",
    "    print('Коробка №2')\n",
    "    \n",
    "elif (length > 200):\n",
    "    print('Упаковка для лыж')\n",
    "    \n",
    "else:\n",
    "    print('Стандартная коробка №3')\n",
    "    \n",
    "    \n",
    "    \n"
   ]
  }
 ],
 "metadata": {
  "kernelspec": {
   "display_name": "Python 3",
   "language": "python",
   "name": "python3"
  },
  "language_info": {
   "codemirror_mode": {
    "name": "ipython",
    "version": 3
   },
   "file_extension": ".py",
   "mimetype": "text/x-python",
   "name": "python",
   "nbconvert_exporter": "python",
   "pygments_lexer": "ipython3",
   "version": "3.8.3"
  }
 },
 "nbformat": 4,
 "nbformat_minor": 4
}
