{
 "cells": [
  {
   "cell_type": "markdown",
   "metadata": {},
   "source": [
    "## Задание 1\n",
    "Печатные газеты использовали свой формат дат для каждого выпуска. Для каждой газеты из списка напишите формат указанной даты для перевода в объект datetime:\n",
    "The Moscow Times - Wednesday, October 2, 2002\n",
    "The Guardian - Friday, 11.10.13\n",
    "Daily News - Thursday, 18 August 1977"
   ]
  },
  {
   "cell_type": "code",
   "execution_count": 4,
   "metadata": {},
   "outputs": [
    {
     "data": {
      "text/plain": [
       "datetime.datetime(1977, 8, 18, 0, 0)"
      ]
     },
     "execution_count": 4,
     "metadata": {},
     "output_type": "execute_result"
    }
   ],
   "source": [
    "from datetime import datetime\n",
    "\n",
    "#Для газеты The Moscow Times\n",
    "\n",
    "date_string_1 = 'Wednesday, October 2, 2002'\n",
    "\n",
    "datetime.strptime(date_string_1, '%A, %B %d, %Y')\n",
    "\n",
    "#Для газеты The Guardian\n",
    "\n",
    "date_string_2 = 'Friday, 11.10.13'\n",
    "\n",
    "datetime.strptime(date_string_2, '%A, %d.%m.%y')\n",
    "\n",
    "#Для газеты Daily News\n",
    "\n",
    "date_string_3 = 'Thursday, 18 August 1977'\n",
    "\n",
    "datetime.strptime(date_string_3, '%A, %d %B %Y')"
   ]
  },
  {
   "cell_type": "markdown",
   "metadata": {},
   "source": [
    "## Задание 2\n",
    "Дан поток дат в формате YYYY-MM-DD, в которых встречаются некорректные значения:\n",
    "stream = [‘2018-04-02’, ‘2018-02-29’, ‘2018-19-02’]\n",
    "\n",
    "Напишите функцию, которая проверяет эти даты на корректность. Т. е. для каждой даты возвращает True (дата корректна) или False (некорректная дата)."
   ]
  },
  {
   "cell_type": "code",
   "execution_count": 15,
   "metadata": {},
   "outputs": [
    {
     "name": "stdout",
     "output_type": "stream",
     "text": [
      "True\n",
      "False\n",
      "False\n"
     ]
    }
   ],
   "source": [
    "from datetime import datetime\n",
    "\n",
    "stream = ['2018-04-02', '2018-02-29', '2018-19-02']\n",
    "\n",
    "def check_(stream):\n",
    "    for i in stream:\n",
    "        try:\n",
    "            datetime.strptime(i, '%Y-%m-%d')\n",
    "            print('True')\n",
    "        except:\n",
    "            print('False')\n",
    "\n",
    "check_(stream)"
   ]
  },
  {
   "cell_type": "markdown",
   "metadata": {},
   "source": [
    "## Задание 3\n",
    "Напишите функцию date_range, которая возвращает список дат за период от start_date до end_date. Даты должны вводиться в формате YYYY-MM-DD. В случае неверного формата или при start_date > end_date должен возвращаться пустой список."
   ]
  },
  {
   "cell_type": "code",
   "execution_count": 75,
   "metadata": {},
   "outputs": [
    {
     "name": "stdout",
     "output_type": "stream",
     "text": [
      "2018-01-01\n",
      "2018-01-02\n",
      "2018-01-03\n",
      "2018-01-04\n",
      "2018-01-05\n",
      "2018-01-06\n",
      "2018-01-07\n"
     ]
    }
   ],
   "source": [
    "from datetime import timedelta\n",
    "\n",
    "start_date = '2018-01-01'\n",
    "end_date = '2018-01-07'\n",
    "\n",
    "\n",
    "def date_range(start_date,end_date):\n",
    "    try:\n",
    "\n",
    "        start_date_datetime = datetime.strptime(start_date, '%Y-%m-%d')\n",
    "        end_date_datetime = datetime.strptime(end_date, '%Y-%m-%d')\n",
    "    \n",
    "        if start_date_datetime < end_date_datetime:\n",
    "        \n",
    "            while start_date_datetime <= end_date_datetime:\n",
    "                print(start_date_datetime.strftime('%Y-%m-%d'))\n",
    "                start_date_datetime = start_date_datetime + timedelta(days=1)\n",
    "        \n",
    "        else:\n",
    "            return \n",
    "\n",
    "    except:\n",
    "        return \n",
    "    \n",
    "    \n",
    "date_range(start_date,end_date)"
   ]
  }
 ],
 "metadata": {
  "kernelspec": {
   "display_name": "Python 3",
   "language": "python",
   "name": "python3"
  },
  "language_info": {
   "codemirror_mode": {
    "name": "ipython",
    "version": 3
   },
   "file_extension": ".py",
   "mimetype": "text/x-python",
   "name": "python",
   "nbconvert_exporter": "python",
   "pygments_lexer": "ipython3",
   "version": "3.8.3"
  }
 },
 "nbformat": 4,
 "nbformat_minor": 4
}
