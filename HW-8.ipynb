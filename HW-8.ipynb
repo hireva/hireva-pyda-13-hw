{
 "cells": [
  {
   "cell_type": "markdown",
   "metadata": {},
   "source": [
    "# Задание 1\n",
    "\n",
    "Напишите функцию, которая принимает на вход строку и проверяет является ли она валидным транспортным номером (1 буква, 3 цифры, 2 буквы, 2-3 цифры). Обратите внимание, что не все буквы кириллического алфавита используются в транспортных номерах.\n",
    "\n",
    "Если номер валиден, то функция должна возвращать отдельно номер и регион."
   ]
  },
  {
   "cell_type": "code",
   "execution_count": 1,
   "metadata": {},
   "outputs": [],
   "source": [
    "import re"
   ]
  },
  {
   "cell_type": "code",
   "execution_count": 26,
   "metadata": {},
   "outputs": [
    {
     "name": "stdout",
     "output_type": "stream",
     "text": [
      "Номер А222СА валиден. Регион: 98\n"
     ]
    }
   ],
   "source": [
    "car_id = 'А222СА98'\n",
    "\n",
    "def num_auto (car_id):\n",
    "    i = re.search(r'([АВЕКМНОРСТУХ]{1}\\d{3}[АВЕКМНОРСТУХ]{2})(\\d{2,3})$', car_id)\n",
    "\n",
    "    if not i:\n",
    "        print('Номер не валиден')\n",
    "    else:\n",
    "        print('Номер', i.group(1), 'валиден.', 'Регион:', i.group(2))\n",
    "        \n",
    "num_auto(car_id)"
   ]
  },
  {
   "cell_type": "markdown",
   "metadata": {},
   "source": [
    "# Задание 2\n",
    "\n",
    "Напишите функцию, которая будет удалять все последовательные повторы слов из заданной строки при помощи регулярных выражений.\n",
    "\n",
    "Пример работы программы:\n",
    "\n",
    "some_string = 'Напишите функцию функцию, которая будет будет будет будет удалять все все все все последовательные повторы слов из из из из заданной строки строки при помощи регулярных выражений.'\n",
    "\n",
    "Результат:\n",
    "Напишите функцию, которая будет удалять все последовательные повторы слов из заданной строки при помощи регулярных выражений.\n"
   ]
  },
  {
   "cell_type": "code",
   "execution_count": 25,
   "metadata": {},
   "outputs": [
    {
     "name": "stdout",
     "output_type": "stream",
     "text": [
      "Напишите функцию, которая будет удалять все последовательные повторы слов из заданной строки при помощи регулярных выражений.\n"
     ]
    }
   ],
   "source": [
    "import re\n",
    "\n",
    "some_string = \"Напишите функцию функцию, которая будет будет будет будет удалять все все все все последовательные повторы слов из из из из заданной строки строки при помощи регулярных выражений.\"\n",
    "\n",
    "def rep_words (some_string):\n",
    "    print (re.sub(r'\\b([^\\W]+)(\\s\\1)+\\b', r'\\1', some_string))\n",
    "\n",
    "rep_words (some_string)\n"
   ]
  },
  {
   "cell_type": "markdown",
   "metadata": {},
   "source": [
    "# Задание 3\n",
    "Напишите функцию, которая будет возвращать акроним по переданной в нее строке со словами.\n",
    "\n",
    "Примеры работы программы:\n",
    "\n",
    "some_words = 'Информационные технологии’\n",
    "Результат: ИТ\n",
    "\n",
    "some_words = 'Near Field Communication’\n",
    "Результат: NFC"
   ]
  },
  {
   "cell_type": "code",
   "execution_count": 54,
   "metadata": {},
   "outputs": [
    {
     "name": "stdout",
     "output_type": "stream",
     "text": [
      "ИТ\n"
     ]
    }
   ],
   "source": [
    "some_words = 'Информационные технологии'\n",
    "\n",
    "def first_letters(some_words):\n",
    "    print(re.sub(r'(\\w{1})(\\w+\\s{0,})', r'\\1', some_words).upper())\n",
    "    \n",
    "first_letters(some_words)   "
   ]
  },
  {
   "cell_type": "markdown",
   "metadata": {},
   "source": [
    "# Задание 4\n",
    "Напишите функцию, которая будет принимать на вход список email-адресов и выводить их распределение по доменным зонам.\n",
    "\n",
    "Пример работы программы:\n",
    "\n",
    "emails = ['test@gmail.com', 'xyz@test.in', 'test@ya.ru', 'xyz@mail.ru', 'xyz@ya.ru', 'xyz@gmail.com']\n",
    "\n",
    "Результат:\n",
    "\n",
    "gmail.com: 2\n",
    "test.in: 1\n",
    "ya.ru: 2\n",
    "mail.ru: 1"
   ]
  },
  {
   "cell_type": "code",
   "execution_count": 112,
   "metadata": {},
   "outputs": [
    {
     "name": "stdout",
     "output_type": "stream",
     "text": [
      "gmail.com:2\n",
      "test.in:1\n",
      "ya.ru:2\n",
      "mail.ru:1\n"
     ]
    }
   ],
   "source": [
    "emails = ['test@gmail.com', 'xyz@test.in', 'test@ya.ru', 'xyz@mail.ru', 'xyz@ya.ru', 'xyz@gmail.com']\n",
    "\n",
    "def emails_(emails):\n",
    "    gmail = 0\n",
    "    test = 0\n",
    "    ya = 0\n",
    "    mail = 0\n",
    "\n",
    "    for i in emails:\n",
    "        if re.findall(r'\\w+@gmail.com', i) != []:\n",
    "            gmail +=1\n",
    "    \n",
    "        elif re.findall(r'\\w+@test.in', i) != []:\n",
    "            test += 1\n",
    "        \n",
    "        elif re.findall(r'\\w+@ya.ru', i) != []:\n",
    "            ya += 1\n",
    "        \n",
    "        elif re.findall(r'\\w+@mail.ru', i) != []:\n",
    "            mail += 1    \n",
    "        \n",
    "    print(f'gmail.com:{gmail}', f'test.in:{test}', f'ya.ru:{ya}', f'mail.ru:{mail}', sep = '\\n')\n",
    "    \n",
    "\n",
    "emails_(emails)      "
   ]
  },
  {
   "cell_type": "code",
   "execution_count": 91,
   "metadata": {},
   "outputs": [
    {
     "name": "stdout",
     "output_type": "stream",
     "text": [
      "gmail.com: 2\n",
      "test.in: 1\n",
      "ya.ru: 2\n",
      "mail.ru: 1\n"
     ]
    }
   ],
   "source": [
    "emails = ['test@gmail.com', 'xyz@test.in', 'test@ya.ru', 'xyz@mail.ru', 'xyz@ya.ru', 'xyz@gmail.com']\n",
    "\n",
    "list_ = []\n",
    "dict_ = {}\n",
    "\n",
    "for i in emails: #выделяем домены и записываем их в список\n",
    "    el = re.findall(r'(\\w+\\.\\w+)', i)\n",
    "    list_.append(el[0])\n",
    "\n",
    "for i in list_: #считаем сколько раз встречается каждый из доменов и записываем результаты в словарь\n",
    "    dict_[i] = dict_.get(i, 0) + 1\n",
    "\n",
    "for k,v in dict_.items(): #печатаем данные из словаря\n",
    "    print(f'{k}: {v}')\n",
    "    "
   ]
  }
 ],
 "metadata": {
  "kernelspec": {
   "display_name": "Python 3",
   "language": "python",
   "name": "python3"
  },
  "language_info": {
   "codemirror_mode": {
    "name": "ipython",
    "version": 3
   },
   "file_extension": ".py",
   "mimetype": "text/x-python",
   "name": "python",
   "nbconvert_exporter": "python",
   "pygments_lexer": "ipython3",
   "version": "3.8.3"
  }
 },
 "nbformat": 4,
 "nbformat_minor": 4
}
