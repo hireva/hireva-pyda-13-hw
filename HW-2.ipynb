{
 "cells": [
  {
   "cell_type": "markdown",
   "metadata": {},
   "source": [
    "# Задание 1 - вывести среднюю букву, если число букв в слове четное или две средних буквы, если число букв нечетное."
   ]
  },
  {
   "cell_type": "code",
   "execution_count": 45,
   "metadata": {},
   "outputs": [
    {
     "name": "stdout",
     "output_type": "stream",
     "text": [
      "нечетное число символов\n",
      "t\n"
     ]
    }
   ],
   "source": [
    "word = str('testing')\n",
    "\n",
    "if len(word)%2 == 0:\n",
    "    print('четное число символов') \n",
    "    print(word[int((len(word)/2) - 1)] + word[int(len(word)/2)])\n",
    "        \n",
    "else:\n",
    "    print('нечетное число символов') \n",
    "    print(word[int((len(word)/2))])"
   ]
  },
  {
   "cell_type": "markdown",
   "metadata": {},
   "source": [
    "# Задание 2 - запрашиваем у пользователя числа и после первого нуля выводии сумму всех ранее введенных чисел"
   ]
  },
  {
   "cell_type": "code",
   "execution_count": 59,
   "metadata": {},
   "outputs": [
    {
     "name": "stdout",
     "output_type": "stream",
     "text": [
      "Введите число:2\n",
      "Введите число:1\n",
      "Введите число:10\n",
      "Введите число:58\n",
      "Введите число:0\n",
      "Результат:  71\n"
     ]
    }
   ],
   "source": [
    "y = int\n",
    "x = int\n",
    "\n",
    "y = 0\n",
    "\n",
    "while x != 0:\n",
    "    x = int(input('Введите число:'))\n",
    "    \n",
    "    if x != 0:\n",
    "        y=y+x\n",
    "      \n",
    "\n",
    "print('Результат: ',y)\n"
   ]
  },
  {
   "cell_type": "markdown",
   "metadata": {},
   "source": [
    "# Задание 3 - MVP dating-сервиса"
   ]
  },
  {
   "cell_type": "code",
   "execution_count": 92,
   "metadata": {},
   "outputs": [
    {
     "name": "stdout",
     "output_type": "stream",
     "text": [
      "Alex  и  Emma\n",
      "Arthur  и  Kate\n",
      "John  и  Kira\n",
      "Peter  и  Liza\n",
      "Richard  и  Trisha\n"
     ]
    }
   ],
   "source": [
    "boys = ['Peter', 'Alex', 'John', 'Arthur', 'Richard']\n",
    "girls = ['Kate', 'Liza', 'Kira', 'Emma', 'Trisha']\n",
    "\n",
    "if len(boys) != len(girls):\n",
    "    print('Кто-то может остаться без пары!')\n",
    "    \n",
    "else:\n",
    "    match = zip(sorted(boys),sorted(girls))\n",
    "    \n",
    "    for bg in match:\n",
    "        print(bg[0], ' и ', bg[1])"
   ]
  },
  {
   "cell_type": "markdown",
   "metadata": {},
   "source": [
    "# Задание 4 - дана среднедневная температура в Фаренгейтах. Рассчитываем среднюю температуру за период в Цельсиях"
   ]
  },
  {
   "cell_type": "code",
   "execution_count": 132,
   "metadata": {},
   "outputs": [
    {
     "name": "stdout",
     "output_type": "stream",
     "text": [
      "Thailand  -  23.9 C\n",
      "Germany  -  13.8 C\n",
      "Russia  -  3.7 C\n",
      "Poland  -  12.0 C\n"
     ]
    }
   ],
   "source": [
    "countries_temperature = [\n",
    "['Thailand', [75.2, 77, 78.8, 73.4, 68, 75.2, 77]],\n",
    "['Germany', [57.2, 55.4, 59, 59, 53.6]],\n",
    "['Russia', [35.6, 37.4, 39.2, 41, 42.8, 39.2, 35.6]],\n",
    "['Poland', [50, 50, 53.6, 57.2, 55.4, 55.4]]\n",
    "]\n",
    "    \n",
    "for row in countries_temperature:\n",
    "    x =((sum(row[1])) / len(row[1])) # x-средняя темп-ра за период в Фаренгейтах, промежуточная переменная для вычисления темп-ры в Цельсиях \n",
    "    temp = (x - 32) / 9 * 5\n",
    "    print(row[0],' - ', round(temp,1), 'C')"
   ]
  }
 ],
 "metadata": {
  "kernelspec": {
   "display_name": "Python 3",
   "language": "python",
   "name": "python3"
  },
  "language_info": {
   "codemirror_mode": {
    "name": "ipython",
    "version": 3
   },
   "file_extension": ".py",
   "mimetype": "text/x-python",
   "name": "python",
   "nbconvert_exporter": "python",
   "pygments_lexer": "ipython3",
   "version": "3.8.3"
  }
 },
 "nbformat": 4,
 "nbformat_minor": 4
}
