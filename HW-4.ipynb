{
 "cells": [
  {
   "cell_type": "code",
   "execution_count": 2,
   "metadata": {},
   "outputs": [
    {
     "name": "stdout",
     "output_type": "stream",
     "text": [
      "Введите номер документа:10006\n",
      "Владелец документа: Аристарх Павлов\n"
     ]
    }
   ],
   "source": [
    "#Пункт 1. Пользователь по команде “p” может узнать владельца документа по его номеру\n",
    "\n",
    "documents = [\n",
    "{'type': 'passport', 'number': '2207 876234', 'name': 'Василий Гупкин'},\n",
    "{'type': 'invoice', 'number': '11-2', 'name': 'Геннадий Покемонов'},\n",
    "{'type': 'insurance', 'number': '10006', 'name': 'Аристарх Павлов'}\n",
    "]\n",
    "\n",
    "def doc_owner(documents):\n",
    "    n_d = input('Введите номер документа:')\n",
    "    x = 0\n",
    "\n",
    "    for document in documents:\n",
    "        if n_d in document['number']:\n",
    "            print('Владелец документа:', document['name'])\n",
    "        else:\n",
    "            x += 1\n",
    "        \n",
    "    if x == len(documents):\n",
    "        print('Документ не найден в базе')  \n",
    "    "
   ]
  },
  {
   "cell_type": "code",
   "execution_count": 5,
   "metadata": {},
   "outputs": [
    {
     "name": "stdout",
     "output_type": "stream",
     "text": [
      "Введите номер документа:10006\n",
      "Документ хранится на полке: 2\n"
     ]
    }
   ],
   "source": [
    "#Пункт 2. Пользователь по команде “s” может по номеру документа узнать на какой полке он хранится\n",
    "\n",
    "directories = {\n",
    "'1': ['2207 876234', '11-2'],\n",
    "'2': ['10006'],\n",
    "'3': []\n",
    "}\n",
    "\n",
    "def doc_directory(directories):\n",
    "    n_d = input('Введите номер документа:')\n",
    "    x = 0\n",
    "    for k, v in directories.items():\n",
    "        if n_d in v:\n",
    "            print(f'Документ хранится на полке: {k}') \n",
    "        else:\n",
    "            x += 1\n",
    "        \n",
    "    if x == len(directories):\n",
    "        print('Документ не найден в базе')  \n",
    "    \n",
    "doc_directory(directories)"
   ]
  },
  {
   "cell_type": "code",
   "execution_count": 7,
   "metadata": {},
   "outputs": [
    {
     "name": "stdout",
     "output_type": "stream",
     "text": [
      "№ 2207 876234 , тип: passport , владелец: Василий Гупкин , полка: 1\n",
      "№ 11-2 , тип: invoice , владелец: Геннадий Покемонов , полка: 1\n",
      "№ 10006 , тип: insurance , владелец: Аристарх Павлов , полка: 2\n"
     ]
    }
   ],
   "source": [
    "#Пункт 3. Пользователь по команде “l” может увидеть полную информацию по всем документам\n",
    "\n",
    "documents = [\n",
    "{'type': 'passport', 'number': '2207 876234', 'name': 'Василий Гупкин'},\n",
    "{'type': 'invoice', 'number': '11-2', 'name': 'Геннадий Покемонов'},\n",
    "{'type': 'insurance', 'number': '10006', 'name': 'Аристарх Павлов'}\n",
    "]\n",
    "\n",
    "directories = {\n",
    "'1': ['2207 876234', '11-2'],\n",
    "'2': ['10006'],\n",
    "'3': []\n",
    "}\n",
    "\n",
    "def all_doc(documents, directories):\n",
    "    for document in documents:\n",
    "        x_ = document['number']\n",
    "        for k,v in directories.items():\n",
    "            if x_ in v:\n",
    "                y_ = k\n",
    "        \n",
    "        print('№', document['number'], ', тип:', document['type'],', владелец:', document['name'], ', полка:', y_)\n",
    "    \n",
    "    \n",
    "all_doc(documents, directories)"
   ]
  },
  {
   "cell_type": "code",
   "execution_count": 9,
   "metadata": {},
   "outputs": [
    {
     "name": "stdout",
     "output_type": "stream",
     "text": [
      "Введите номер полки:3\n",
      "Такая полка уже существует. Текущий перечень полок: 1,2,3\n"
     ]
    }
   ],
   "source": [
    "#Пункт 4. Пользователь по команде “as” может добавить новую полку\n",
    "\n",
    "directories = {\n",
    "'1': ['2207 876234', '11-2'],\n",
    "'2': ['10006'],\n",
    "'3': []\n",
    "}\n",
    "\n",
    "def add_directory(directories):\n",
    "    n_der = input('Введите номер полки:')\n",
    "    x = 0\n",
    "\n",
    "    for k in directories.keys():\n",
    "        if k == n_der:\n",
    "            l_o_d = ','.join(list(directories.keys())) # l_o_d — переменная, кот. преобрзует ключи списка в строку \n",
    "            print(f'Такая полка уже существует. Текущий перечень полок: {l_o_d}')\n",
    "        \n",
    "        else:\n",
    "            x += 1\n",
    "        \n",
    "    if x == len(directories):        \n",
    "        directories[n_der] = []\n",
    "        l_o_d = ','.join(list(directories.keys())) \n",
    "        print(f'Полка добавлена. Текущий перечень полок: {l_o_d}')\n",
    "        \n",
    "add_directory(directories)"
   ]
  },
  {
   "cell_type": "code",
   "execution_count": 11,
   "metadata": {},
   "outputs": [
    {
     "name": "stdout",
     "output_type": "stream",
     "text": [
      "Введите номер полки:2\n",
      "На полке есть документы, удалите их перед удалением полки. Текущий перечень полок: 1,2,3\n"
     ]
    }
   ],
   "source": [
    "#Пункт 5. Пользователь по команде “ds” может удалить существующую полку из данных (только если она пустая)\n",
    "directories = {\n",
    "'1': ['2207 876234', '11-2'],\n",
    "'2': ['10006'],\n",
    "'3': []\n",
    "}\n",
    "\n",
    "def del_directory(directories):\n",
    "    n_der = input('Введите номер полки:')\n",
    "\n",
    "    if n_der not in directories.keys():\n",
    "         print('Такой полки не существует. Текущий перечень полок:', ','.join(list(directories.keys())))\n",
    "        \n",
    "    else:\n",
    "        if len(directories[n_der]) != 0:\n",
    "               print('На полке есть документы, удалите их перед удалением полки. Текущий перечень полок:', ','.join(list(directories.keys())))\n",
    "\n",
    "        else:\n",
    "            del directories[n_der]\n",
    "            print('Полка удалена. Текущий перечень полок:', ','.join(list(directories.keys())))\n",
    "    \n",
    "del_directory(directories)\n",
    "    "
   ]
  },
  {
   "cell_type": "code",
   "execution_count": null,
   "metadata": {},
   "outputs": [
    {
     "name": "stdout",
     "output_type": "stream",
     "text": [
      "Введите комманду:ds\n",
      "Введите номер полки:2\n",
      "На полке есть документы, удалите их перед удалением полки. Текущий перечень полок: 1,2,3\n"
     ]
    }
   ],
   "source": [
    "documents = [\n",
    "{'type': 'passport', 'number': '2207 876234', 'name': 'Василий Гупкин'},\n",
    "{'type': 'invoice', 'number': '11-2', 'name': 'Геннадий Покемонов'},\n",
    "{'type': 'insurance', 'number': '10006', 'name': 'Аристарх Павлов'}\n",
    "]\n",
    "\n",
    "\n",
    "directories = {\n",
    "'1': ['2207 876234', '11-2'],\n",
    "'2': ['10006'],\n",
    "'3': []\n",
    "}\n",
    "\n",
    "def input_(documents, directories):\n",
    "    while True:\n",
    "        user_input = ((input('Введите комманду:')))\n",
    "        \n",
    "        if user_input == 'p':\n",
    "            doc_owner(documents)\n",
    "        elif user_input == 's':\n",
    "            doc_directory(directories)\n",
    "            \n",
    "        elif user_input == 'l':\n",
    "            all_doc(documents, directories)\n",
    "            \n",
    "        elif user_input == 'as':\n",
    "            add_directory(directories)\n",
    "            \n",
    "        elif user_input == 'ds':\n",
    "            del_directory(directories)\n",
    "            \n",
    "        else:\n",
    "            print('Введена неверная команда')\n",
    "            \n",
    "            \n",
    "input_(documents, directories)"
   ]
  }
 ],
 "metadata": {
  "kernelspec": {
   "display_name": "Python 3",
   "language": "python",
   "name": "python3"
  },
  "language_info": {
   "codemirror_mode": {
    "name": "ipython",
    "version": 3
   },
   "file_extension": ".py",
   "mimetype": "text/x-python",
   "name": "python",
   "nbconvert_exporter": "python",
   "pygments_lexer": "ipython3",
   "version": "3.8.3"
  }
 },
 "nbformat": 4,
 "nbformat_minor": 4
}
